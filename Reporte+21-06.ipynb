{
 "cells": [
  {
   "cell_type": "markdown",
   "metadata": {},
   "source": [
    "# Reporte de la clase del 21-06-2017 juego de LED."
   ]
  },
  {
   "cell_type": "markdown",
   "metadata": {},
   "source": [
    "## Conexión a la RaspBerry\n",
    "### Conexión de la 5 a la 1.\n",
    "* Los primero que se realizo fue entra a la RaspBerry 5 para poder realizar las instrucciones correctas para mandar las señales.\n",
    "* Posteriormente se pasó a entrar al archivo Led.py para verificar los pines.\n",
    "* Una vez verificado no se realizo cambio ya que los pines coincidian con los de la Rasp.\n",
    "* Se escribió en siguiente código  mpiexec -n 2 -host rpi-lania5.local,rpi-lania1.local /usr/bin/python led.py. Empezo a ejecutarse y a mandar unos mensaje de envio de señal y recepción pero no prendia los LED."
   ]
  },
  {
   "cell_type": "markdown",
   "metadata": {},
   "source": [
    "<img src=\"Practica1.jpg\"/>"
   ]
  },
  {
   "cell_type": "markdown",
   "metadata": {
    "collapsed": true
   },
   "source": [
    "#### Pero no prendia los lED y en el momento no sabía el error ya que no mandaba mensaje de error. luego me dí cuenta que esra porque no se había  modificado el archivo machinefile ya que nada mas se le iba a enviar señal a una Rasp el archivo tenia la ip de las 5 y ese era la razón por lo que no realizaba nada.\n",
    "* Lo que se realizó fue entrar al archivo.\n",
    "* Luego se cambio el contenido del archivo.\n",
    "* Dejando solo el nombre de la Rasp a la que se desea conectar."
   ]
  },
  {
   "cell_type": "markdown",
   "metadata": {},
   "source": [
    "<img src=\"Practica2.jpg\"/>"
   ]
  },
  {
   "cell_type": "markdown",
   "metadata": {},
   "source": [
    "###### Una vez con eso nada mas hay que copiar el archivo donde se encuentra el código llamado LED.py a la Rasp donde quiera que se ejecute el programa\n",
    "\n",
    "<img src=\"Practica3.jpg\"/>"
   ]
  }
 ],
 "metadata": {
  "kernelspec": {
   "display_name": "Python 3",
   "language": "python",
   "name": "python3"
  },
  "language_info": {
   "codemirror_mode": {
    "name": "ipython",
    "version": 3
   },
   "file_extension": ".py",
   "mimetype": "text/x-python",
   "name": "python",
   "nbconvert_exporter": "python",
   "pygments_lexer": "ipython3",
   "version": "3.6.1"
  }
 },
 "nbformat": 4,
 "nbformat_minor": 2
}
